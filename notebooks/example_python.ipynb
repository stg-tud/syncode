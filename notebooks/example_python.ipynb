{
 "cells": [
  {
   "cell_type": "code",
   "execution_count": 12,
   "id": "23530ae1",
   "metadata": {},
   "outputs": [
    {
     "name": "stdout",
     "output_type": "stream",
     "text": [
      "[2025-06-03 16:10:30,358-root] - Loading model meta-llama/Llama-3.2-1B with device:cuda, device_map:auto, torch_dtype:torch.bfloat16\n",
      "[2025-06-03 16:10:31,670-root] - Loading model meta-llama/Llama-3.2-1B with device:cuda, device_map:auto, torch_dtype:torch.bfloat16\n"
     ]
    }
   ],
   "source": [
    "import sys\n",
    "sys.path.append('..') # Assuming we are in the root directory\n",
    "from syncode import Syncode\n",
    "import warnings\n",
    "warnings.filterwarnings('ignore')\n",
    "\n",
    "model_name = \"meta-llama/Llama-3.2-1B\"\n",
    "\n",
    "# Load the unconstrained original model\n",
    "llm = Syncode(model = model_name, mode='original', max_new_tokens=200)\n",
    "\n",
    "# Load the Syncode augmented model\n",
    "syn_llm = Syncode(\n",
    "    model = model_name, \n",
    "    mode='grammar_mask', \n",
    "    grammar='python', \n",
    "    parse_output_only=False,\n",
    "    indent=True,\n",
    "    opp=False\n",
    "    )"
   ]
  },
  {
   "cell_type": "markdown",
   "id": "987e0831",
   "metadata": {},
   "source": [
    "# Syncode vs Standard LLM generation of Python program\n",
    "We show that in following program the standard LLM generates a python program that has indentation error, while the Syncode LLM generates a correct python program."
   ]
  },
  {
   "cell_type": "code",
   "execution_count": 8,
   "id": "490cddb3",
   "metadata": {},
   "outputs": [
    {
     "name": "stderr",
     "output_type": "stream",
     "text": [
      "Setting `pad_token_id` to `eos_token_id`:128001 for open-end generation.\n"
     ]
    },
    {
     "name": "stdout",
     "output_type": "stream",
     "text": [
      "def is_prime(n):\n",
      "    '''Return if prime'''\n",
      "   if n < 2:\n",
      "       return False\n",
      "   for i in range(2, n):\n",
      "       if n % i == 0:\n",
      "           return False\n",
      "   return True\n",
      "\n"
     ]
    },
    {
     "ename": "IndentationError",
     "evalue": "unindent does not match any outer indentation level (<string>, line 3)",
     "output_type": "error",
     "traceback": [
      "Traceback \u001b[0;36m(most recent call last)\u001b[0m:\n",
      "\u001b[0m  File \u001b[1;32m~/anaconda3/envs/codex/lib/python3.11/site-packages/IPython/core/interactiveshell.py:3577\u001b[0m in \u001b[1;35mrun_code\u001b[0m\n    exec(code_obj, self.user_global_ns, self.user_ns)\u001b[0m\n",
      "\u001b[0;36m  Cell \u001b[0;32mIn[8], line 4\u001b[0;36m\n\u001b[0;31m    exec(output)\u001b[0;36m\n",
      "\u001b[0;36m  File \u001b[0;32m<string>:3\u001b[0;36m\u001b[0m\n\u001b[0;31m    if n < 2:\u001b[0m\n\u001b[0m             ^\u001b[0m\n\u001b[0;31mIndentationError\u001b[0m\u001b[0;31m:\u001b[0m unindent does not match any outer indentation level\n"
     ]
    }
   ],
   "source": [
    "partial_code = \"def is_prime(n):\\n    '''Return if prime'''\\n  \"\n",
    "output = partial_code+llm.infer(partial_code)[0]\n",
    "print(output)\n",
    "exec(output)"
   ]
  },
  {
   "cell_type": "code",
   "execution_count": 13,
   "id": "76cd93f5",
   "metadata": {},
   "outputs": [
    {
     "name": "stderr",
     "output_type": "stream",
     "text": [
      "Setting `pad_token_id` to `eos_token_id`:128001 for open-end generation.\n"
     ]
    },
    {
     "name": "stdout",
     "output_type": "stream",
     "text": [
      "def is_prime(n):\n",
      "    '''Return if prime'''\n",
      "    return n > 1 and all(n % i!= 0 for i in range(2, int(n**0.5) + 1))\n",
      "\n"
     ]
    }
   ],
   "source": [
    "output = partial_code+syn_llm.infer(partial_code)[0]\n",
    "print(output)\n",
    "exec(output)"
   ]
  }
 ],
 "metadata": {
  "kernelspec": {
   "display_name": "codex",
   "language": "python",
   "name": "python3"
  },
  "language_info": {
   "codemirror_mode": {
    "name": "ipython",
    "version": 3
   },
   "file_extension": ".py",
   "mimetype": "text/x-python",
   "name": "python",
   "nbconvert_exporter": "python",
   "pygments_lexer": "ipython3",
   "version": "3.11.4"
  }
 },
 "nbformat": 4,
 "nbformat_minor": 5
}
