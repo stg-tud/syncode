{
 "cells": [
  {
   "cell_type": "code",
   "execution_count": null,
   "metadata": {},
   "outputs": [],
   "source": [
    "from syncode.infer import Syncode\n",
    "\n",
    "\n",
    "# Load the unconstrained original model\n",
    "# model_name = \"microsoft/Phi-3-mini-4k-instruct\"\n",
    "#model_name = \"microsoft/phi-4-mini-instruct\"\n",
    "model_name = \"microsoft/phi-2\"\n",
    "# model_name = \"deepseek-ai/DeepSeek-R1-Distill-Llama-8B\"\n",
    "# model_name = \"meta-llama/Meta-Llama-3-8B-Instruct\"\n",
    "\n",
    "\n",
    "# grammar = \"python\"\n",
    "grammar = \"python_var_tracking\"\n",
    "\n",
    "prompt = \"python: Define variables a, b and c then use them in a print statement.\\n\"\n",
    "\n"
   ]
  },
  {
   "cell_type": "code",
   "execution_count": null,
   "metadata": {},
   "outputs": [],
   "source": [
    "syn_llm = Syncode(model=model_name, grammar=grammar, max_new_tokens=100, mode=\"grammar_strict\")\n",
    "output_changed_grammar = syn_llm.infer(prompt)[0]\n",
    "del syn_llm"
   ]
  },
  {
   "cell_type": "code",
   "execution_count": null,
   "metadata": {},
   "outputs": [],
   "source": [
    "syn_llm = Syncode(model=model_name, grammar=\"python\", max_new_tokens=100, mode=\"grammar_strict\")\n",
    "output_original_grammar = syn_llm.infer(prompt)[0]\n",
    "del syn_llm"
   ]
  },
  {
   "cell_type": "code",
   "execution_count": null,
   "metadata": {},
   "outputs": [],
   "source": [
    "syn_llm = Syncode(model=model_name, max_new_tokens=100, mode=\"original\")\n",
    "output_unrestricted = syn_llm.infer(prompt)[0]\n",
    "del syn_llm"
   ]
  },
  {
   "cell_type": "code",
   "execution_count": null,
   "metadata": {},
   "outputs": [],
   "source": [
    "print(\"Unrestricted LLM-------------\")\n",
    "print(output_unrestricted)\n",
    "print(\"Original Pyton Grammar LLM-------------\")\n",
    "print(output_original_grammar)\n",
    "print(\"Changed output grammar\")\n",
    "print(output_changed_grammar)\n",
    "\n",
    "\n",
    "\n",
    "#Sicherstellen, dass sich die geänderte Pythongrammatik nicht von der Originalen pythongrammatik\n",
    "assert output_changed_grammar == output_original_grammar\n",
    "\n"
   ]
  }
 ],
 "metadata": {
  "kernelspec": {
   "display_name": ".venv",
   "language": "python",
   "name": "python3"
  },
  "language_info": {
   "codemirror_mode": {
    "name": "ipython",
    "version": 3
   },
   "file_extension": ".py",
   "mimetype": "text/x-python",
   "name": "python",
   "nbconvert_exporter": "python",
   "pygments_lexer": "ipython3",
   "version": "3.12.11"
  }
 },
 "nbformat": 4,
 "nbformat_minor": 2
}
