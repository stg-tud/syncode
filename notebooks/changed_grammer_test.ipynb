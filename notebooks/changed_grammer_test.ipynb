{
 "cells": [
  {
   "cell_type": "code",
   "execution_count": 1,
   "metadata": {},
   "outputs": [
    {
     "name": "stderr",
     "output_type": "stream",
     "text": [
      "/home/alex/Desktop/coding/SDT/syncode/.venv/lib/python3.12/site-packages/tqdm/auto.py:21: TqdmWarning: IProgress not found. Please update jupyter and ipywidgets. See https://ipywidgets.readthedocs.io/en/stable/user_install.html\n",
      "  from .autonotebook import tqdm as notebook_tqdm\n"
     ]
    }
   ],
   "source": [
    "from syncode.infer import Syncode\n",
    "\n",
    "\n",
    "# Load the unconstrained original model\n",
    "# model_name = \"microsoft/Phi-3-mini-4k-instruct\"\n",
    "#model_name = \"microsoft/phi-4-mini-instruct\"\n",
    "model_name = \"microsoft/phi-2\"\n",
    "# model_name = \"deepseek-ai/DeepSeek-R1-Distill-Llama-8B\"\n",
    "# model_name = \"meta-llama/Meta-Llama-3-8B-Instruct\"\n",
    "\n",
    "\n",
    "# grammar = \"python\"\n",
    "grammar = \"python_var_tracking\"\n",
    "\n",
    "#Prompt Models not the same\n",
    "prompt = \"#python function to print helloworld\"\n",
    "\n",
    "#prompt Models the same\n",
    "#prompt = \"python: Define variables a, b and c then use them in a print statement.\\n\"\n",
    "\n"
   ]
  },
  {
   "cell_type": "code",
   "execution_count": 2,
   "metadata": {},
   "outputs": [
    {
     "name": "stdout",
     "output_type": "stream",
     "text": [
      "[2025-07-03 15:58:05,209-root] - Loading model microsoft/phi-2 with device:cuda, device_map:auto, torch_dtype:torch.bfloat16\n",
      "[2025-07-03 15:58:05,667-accelerate.utils.modeling] - We will use 90% of the memory on device 0 for storing the model, and 10% for the buffer to avoid OOM. You can set `max_memory` in to a higher value to use more memory (at your own risk).\n"
     ]
    },
    {
     "name": "stderr",
     "output_type": "stream",
     "text": [
      "Loading checkpoint shards: 100%|██████████| 2/2 [00:00<00:00,  3.29it/s]\n",
      "Setting `pad_token_id` to `eos_token_id`:50256 for open-end generation.\n"
     ]
    }
   ],
   "source": [
    "syn_llm = Syncode(model=model_name, grammar=grammar, max_new_tokens=100, mode=\"grammar_strict\", parse_output_only=True)\n",
    "output_changed_grammar = syn_llm.infer(prompt)[0]\n",
    "del syn_llm"
   ]
  },
  {
   "cell_type": "code",
   "execution_count": null,
   "metadata": {},
   "outputs": [
    {
     "name": "stdout",
     "output_type": "stream",
     "text": [
      "[2025-07-03 15:58:24,606-root] - Loading model microsoft/phi-2 with device:cuda, device_map:auto, torch_dtype:torch.bfloat16\n",
      "[2025-07-03 15:58:24,744-accelerate.utils.modeling] - We will use 90% of the memory on device 0 for storing the model, and 10% for the buffer to avoid OOM. You can set `max_memory` in to a higher value to use more memory (at your own risk).\n"
     ]
    },
    {
     "name": "stderr",
     "output_type": "stream",
     "text": [
      "Loading checkpoint shards: 100%|██████████| 2/2 [00:00<00:00,  3.31it/s]\n",
      "Setting `pad_token_id` to `eos_token_id`:50256 for open-end generation.\n"
     ]
    }
   ],
   "source": [
    "syn_llm = Syncode(model=model_name, grammar=\"python\", max_new_tokens=100, mode=\"grammar_strict\", parse_output_only=True)\n",
    "output_original_grammar = syn_llm.infer(prompt)[0]\n",
    "del syn_llm"
   ]
  },
  {
   "cell_type": "code",
   "execution_count": null,
   "metadata": {},
   "outputs": [],
   "source": [
    "syn_llm = Syncode(model=model_name, max_new_tokens=100, mode=\"original\", parse_output_only=True)\n",
    "output_unrestricted = syn_llm.infer(prompt)[0]\n",
    "del syn_llm"
   ]
  },
  {
   "cell_type": "code",
   "execution_count": null,
   "metadata": {},
   "outputs": [],
   "source": [
    "print(\"Original Pyton Grammar LLM-------------\")\n",
    "print(output_original_grammar)\n",
    "print(\"Changed Pyton Grammar LLM-------------\")\n",
    "print(output_changed_grammar)\n",
    "print(\"No Grammar LLM-------------\")\n",
    "print(output_unrestricted)\n",
    "\n",
    "\n",
    "#Sicherstellen, dass sich die geänderte Pythongrammatik nicht von der Originalen pythongrammatik\n",
    "assert output_changed_grammar == output_original_grammar\n"
   ]
  }
 ],
 "metadata": {
  "kernelspec": {
   "display_name": ".venv",
   "language": "python",
   "name": "python3"
  },
  "language_info": {
   "codemirror_mode": {
    "name": "ipython",
    "version": 3
   },
   "file_extension": ".py",
   "mimetype": "text/x-python",
   "name": "python",
   "nbconvert_exporter": "python",
   "pygments_lexer": "ipython3",
   "version": "3.12.11"
  }
 },
 "nbformat": 4,
 "nbformat_minor": 2
}
