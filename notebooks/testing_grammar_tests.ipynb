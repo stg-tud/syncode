{
 "cells": [
  {
   "cell_type": "code",
   "execution_count": null,
   "metadata": {},
   "outputs": [],
   "source": [
    "from syncode.infer import Syncode\n",
    "\n",
    "\n",
    "# Load the unconstrained original model\n",
    "# model_name = \"microsoft/Phi-3-mini-4k-instruct\"\n",
    "model_name = \"microsoft/phi-2\"\n",
    "# model_name = \"deepseek-ai/DeepSeek-R1-Distill-Llama-8B\"\n",
    "# model_name = \"meta-llama/Meta-Llama-3-8B-Instruct\"\n",
    "\n",
    "\n",
    "# grammar = \"python\"\n",
    "grammar = \"testing_grammar\"\n",
    "\n",
    "syn_llm = Syncode(model=model_name, grammar=grammar, max_new_tokens=200, mode=\"grammar_strict\")"
   ]
  },
  {
   "cell_type": "code",
   "execution_count": null,
   "metadata": {},
   "outputs": [],
   "source": [
    "prompt = \"repeat after me: a=1;b=2;c=3;use(a)\\n\"\n",
    "print(syn_llm.infer(prompt)[0])"
   ]
  }
 ],
 "metadata": {
  "kernelspec": {
   "display_name": ".venv",
   "language": "python",
   "name": "python3"
  },
  "language_info": {
   "codemirror_mode": {
    "name": "ipython",
    "version": 3
   },
   "file_extension": ".py",
   "mimetype": "text/x-python",
   "name": "python",
   "nbconvert_exporter": "python",
   "pygments_lexer": "ipython3",
   "version": "3.12.8"
  }
 },
 "nbformat": 4,
 "nbformat_minor": 2
}
